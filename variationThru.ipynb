{
 "cells": [
  {
   "cell_type": "code",
   "execution_count": 1,
   "metadata": {},
   "outputs": [],
   "source": [
    "import variations\n",
    "reload(variations)\n",
    "\n",
    "df = variations.Definition()\n",
    "grp = df.addGroup('Component', 'hat')\n",
    "cowboyHat = grp.addVariation('cowboy', '{spref:show/shot/hat_cowboy.cmpt}')\n",
    "fedoraHat = grp.addVariation('fedora', '{spref:show/shot/hat_fedora.cmpt}')\n",
    "\n",
    "grp = df.addGroup('Component', 'pants')\n",
    "cowboyJeans = grp.addVariation('cowboy', '{spref:show/shot/pants_cowboy.cmpt}')\n",
    "suitPants = grp.addVariation('suit', '{spref:show/shot/pants_suit.cmpt}')\n",
    "shortPants = grp.addVariation('short', '{spref:show/shot/shorts_suit.cmpt}')"
   ]
  },
  {
   "cell_type": "code",
   "execution_count": 2,
   "metadata": {},
   "outputs": [
    {
     "name": "stdout",
     "output_type": "stream",
     "text": [
      "{spref:show/shot/hat_fedora.cmpt}\n"
     ]
    }
   ],
   "source": [
    "var = df.findVariation('/hat/fedora')\n",
    "print(var.data('spref'))"
   ]
  },
  {
   "cell_type": "code",
   "execution_count": 3,
   "metadata": {},
   "outputs": [
    {
     "name": "stdout",
     "output_type": "stream",
     "text": [
      "['ac_cn_hi_shortSwordShape']\n"
     ]
    }
   ],
   "source": [
    "sword = df.addGroup('Geometry', 'misc')\n",
    "longSV = sword.addVariation('longSword', shapes=['ac_cn_hi_longSwordShape'])\n",
    "shortSV = sword.addVariation('shortSword', shapes=['ac_cn_hi_shortSwordShape'])\n",
    "\n",
    "print(shortSV.data('shapes'))"
   ]
  },
  {
   "cell_type": "code",
   "execution_count": 5,
   "metadata": {},
   "outputs": [
    {
     "name": "stdout",
     "output_type": "stream",
     "text": [
      "None\n"
     ]
    }
   ],
   "source": [
    "print(sword.collectShapes())"
   ]
  }
 ],
 "metadata": {
  "kernelspec": {
   "display_name": "Python 2",
   "language": "python",
   "name": "python2"
  },
  "language_info": {
   "codemirror_mode": {
    "name": "ipython",
    "version": 2
   },
   "file_extension": ".py",
   "mimetype": "text/x-python",
   "name": "python",
   "nbconvert_exporter": "python",
   "pygments_lexer": "ipython2",
   "version": "2.7.6"
  }
 },
 "nbformat": 4,
 "nbformat_minor": 0
}
